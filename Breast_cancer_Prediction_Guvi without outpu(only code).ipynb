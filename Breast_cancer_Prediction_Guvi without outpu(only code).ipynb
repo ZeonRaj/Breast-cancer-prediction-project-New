{
  "nbformat": 4,
  "nbformat_minor": 0,
  "metadata": {
    "colab": {
      "provenance": []
    },
    "kernelspec": {
      "name": "python3",
      "display_name": "Python 3"
    },
    "language_info": {
      "name": "python"
    }
  },
  "cells": [
    {
      "cell_type": "code",
      "execution_count": 3,
      "metadata": {
        "id": "7bvSRy7eoYX7"
      },
      "outputs": [],
      "source": [
        " #importing libraries\n",
        "import numpy as np\n",
        "import pandas as pd\n",
        "import sklearn.datasets\n",
        "import io\n",
        "from sklearn.model_selection import train_test_split\n",
        "from sklearn.linear_model import LogisticRegression\n",
        "from sklearn.metrics import accuracy_score"
      ]
    },
    {
      "cell_type": "code",
      "source": [
        "#importing files from pc or google colab\n",
        "from google.colab import files\n",
        "BC_dataset= files.upload()\n"
      ],
      "metadata": {
        "id": "lxevAjuih55L"
      },
      "execution_count": null,
      "outputs": []
    },
    {
      "cell_type": "code",
      "source": [
        "#data collection and processing\n",
        "#loading the data from sklearn\n",
        "BC_dataset = pd.read_csv('cancer.csv')\n",
        "\n",
        "\n",
        "\n",
        "print(BC_dataset)"
      ],
      "metadata": {
        "id": "VoKSofPMuleJ"
      },
      "execution_count": null,
      "outputs": []
    },
    {
      "cell_type": "code",
      "source": [
        " # load the dataframe & print first 5 row\n",
        "data_fra =pd.DataFrame(BC_dataset)\n",
        "data_fra['diagnosis'].value_counts()\n"
      ],
      "metadata": {
        "id": "1ysgD2LgFcIr"
      },
      "execution_count": null,
      "outputs": []
    },
    {
      "cell_type": "code",
      "source": [
        "#since id and unnamed column are not necessary we can driop the column\n",
        "data_frame=data_fra.drop(['id','Unnamed: 32' ], axis=1)"
      ],
      "metadata": {
        "id": "bImAtT1y0rKJ"
      },
      "execution_count": 43,
      "outputs": []
    },
    {
      "cell_type": "code",
      "source": [
        "#show top 5 columns\n",
        "data_frame.head()"
      ],
      "metadata": {
        "id": "H1yP-LH_o6yu"
      },
      "execution_count": null,
      "outputs": []
    },
    {
      "cell_type": "code",
      "source": [
        "#to show the data heading in columns\n",
        "data_frame.info()"
      ],
      "metadata": {
        "id": "SEQ7D5RjjITC"
      },
      "execution_count": null,
      "outputs": []
    },
    {
      "cell_type": "code",
      "source": [
        "# statistical measures about the data\n",
        "data_frame.describe()"
      ],
      "metadata": {
        "id": "Cb53luP2kmWA"
      },
      "execution_count": null,
      "outputs": []
    },
    {
      "cell_type": "code",
      "source": [
        "# checking the distribution of Target Varibale\n",
        "# B- benign\n",
        "# M- malignant\n",
        "data_frame['diagnosis'].value_counts()"
      ],
      "metadata": {
        "id": "kmqrOoyBkqIY"
      },
      "execution_count": null,
      "outputs": []
    },
    {
      "cell_type": "code",
      "source": [
        "data_frame.groupby('diagnosis').mean()\n",
        "#B is benign\n",
        "#M is malignant"
      ],
      "metadata": {
        "id": "dR6co9g8k6fb"
      },
      "execution_count": null,
      "outputs": []
    },
    {
      "cell_type": "code",
      "source": [
        "#splitting the data into test data and predicted data\n",
        "X = data_frame.drop(columns='diagnosis', axis=1)\n",
        "Y = data_frame['diagnosis']"
      ],
      "metadata": {
        "id": "j3HTR0zGp7nL"
      },
      "execution_count": 49,
      "outputs": []
    },
    {
      "cell_type": "code",
      "source": [
        "print(X)\n",
        "#data for testing"
      ],
      "metadata": {
        "id": "l393QAtiqMSF"
      },
      "execution_count": null,
      "outputs": []
    },
    {
      "cell_type": "code",
      "source": [
        "print(Y)#original report collected"
      ],
      "metadata": {
        "id": "Xf8N5W0sqQDB"
      },
      "execution_count": null,
      "outputs": []
    },
    {
      "cell_type": "code",
      "source": [
        "X_train, X_test, Y_train, Y_test = train_test_split(X, Y, test_size=0.2, random_state=2)\n",
        "#assigning test and train data"
      ],
      "metadata": {
        "id": "bdN5MVuxqUod"
      },
      "execution_count": 52,
      "outputs": []
    },
    {
      "cell_type": "code",
      "source": [
        "print(X.shape, X_train.shape, X_test.shape)"
      ],
      "metadata": {
        "id": "mHEEjC41qYu_"
      },
      "execution_count": null,
      "outputs": []
    },
    {
      "cell_type": "code",
      "source": [
        "model = LogisticRegression() #regression"
      ],
      "metadata": {
        "id": "dxzcynceqa_n"
      },
      "execution_count": 54,
      "outputs": []
    },
    {
      "cell_type": "code",
      "source": [
        "# training the Logistic Regression model using Training data\n",
        "\n",
        "model.fit(X_train, Y_train)"
      ],
      "metadata": {
        "id": "CQTPwH3j1g8k"
      },
      "execution_count": null,
      "outputs": []
    },
    {
      "cell_type": "code",
      "source": [
        "# accuracy on training data\n",
        "X_train_prediction = model.predict(X_train)\n",
        "training_data_accuracy = accuracy_score(Y_train, X_train_prediction)"
      ],
      "metadata": {
        "id": "rVRUxKZ11hp9"
      },
      "execution_count": 56,
      "outputs": []
    },
    {
      "cell_type": "code",
      "source": [
        "print('Accuracy on training data = ', training_data_accuracy)"
      ],
      "metadata": {
        "id": "Hvlq8cRs1kjp"
      },
      "execution_count": null,
      "outputs": []
    },
    {
      "cell_type": "code",
      "source": [
        "# accuracy on test data\n",
        "X_test_prediction = model.predict(X_test)\n",
        "test_data_accuracy = accuracy_score(Y_test, X_test_prediction)"
      ],
      "metadata": {
        "id": "GSUNB7u71nBP"
      },
      "execution_count": 58,
      "outputs": []
    },
    {
      "cell_type": "code",
      "source": [
        "print('Accuracy on test data = ', test_data_accuracy)"
      ],
      "metadata": {
        "id": "73Rm8LGd1p8r"
      },
      "execution_count": null,
      "outputs": []
    },
    {
      "cell_type": "markdown",
      "source": [
        "***Building a Predictive System***"
      ],
      "metadata": {
        "id": "WnVsfgU01urS"
      }
    },
    {
      "cell_type": "code",
      "source": [
        "#sample input given in the csv file\n",
        "input_data = (13.54,14.36,87.46,566.3,0.09779,0.08129,0.06664,0.04781,0.1885,0.05766,0.2699,0.7886,2.058,23.56,0.008462,0.0146,0.02387,0.01315,0.0198,0.0023,15.11,19.26,99.7,711.2,0.144,0.1773,0.239,0.1288,0.2977,0.07259)\n",
        "\n",
        "# change the input data to a numpy array\n",
        "input_data_as_numpy_array = np.asarray(input_data)\n",
        "\n",
        "# reshape the numpy array as we are predicting for one datapoint\n",
        "input_data_reshaped = input_data_as_numpy_array.reshape(1,-1)\n",
        "\n",
        "prediction = model.predict(input_data_reshaped)\n",
        "print(prediction)\n",
        "\n",
        "if (prediction[0] == \"M\"):\n",
        "  print('The Breast cancer is Malignant')\n",
        "\n",
        "else:\n",
        "  print('The Breast Cancer is Benign')\n",
        "\n"
      ],
      "metadata": {
        "id": "1AVX73f61r8C"
      },
      "execution_count": null,
      "outputs": []
    }
  ]
}